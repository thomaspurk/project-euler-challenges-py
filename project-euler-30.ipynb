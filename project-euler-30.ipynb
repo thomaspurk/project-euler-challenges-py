{
 "cells": [
  {
   "cell_type": "code",
   "execution_count": 1,
   "id": "73b0c253",
   "metadata": {
    "execution": {
     "iopub.execute_input": "2025-03-07T18:03:28.089375Z",
     "iopub.status.busy": "2025-03-07T18:03:28.088898Z",
     "iopub.status.idle": "2025-03-07T18:03:28.094527Z",
     "shell.execute_reply": "2025-03-07T18:03:28.093378Z"
    },
    "papermill": {
     "duration": 0.012098,
     "end_time": "2025-03-07T18:03:28.096387",
     "exception": false,
     "start_time": "2025-03-07T18:03:28.084289",
     "status": "completed"
    },
    "tags": []
   },
   "outputs": [],
   "source": [
    "# Notebook: A Solution to Project Euler Problem 30\n",
    "# Author: Thomas Purk\n",
    "# Date: 2025-03-07\n",
    "# Reference: https://projecteuler.net/problem=30"
   ]
  },
  {
   "cell_type": "markdown",
   "id": "b52fdaf3",
   "metadata": {
    "papermill": {
     "duration": 0.002493,
     "end_time": "2025-03-07T18:03:28.102168",
     "exception": false,
     "start_time": "2025-03-07T18:03:28.099675",
     "status": "completed"
    },
    "tags": []
   },
   "source": [
    "# Problem 30\n",
    "\n",
    "<p>Surprisingly there are only three numbers that can be written as the sum of fourth powers of their digits:\n",
    "\\begin{align}\n",
    "1634 &= 1^4 + 6^4 + 3^4 + 4^4\\\\\n",
    "8208 &= 8^4 + 2^4 + 0^4 + 8^4\\\\\n",
    "9474 &= 9^4 + 4^4 + 7^4 + 4^4\n",
    "\\end{align}\n",
    "</p><p class=\"smaller\">As $1 = 1^4$ is not a sum it is not included.</p>\n",
    "<p>The sum of these numbers is $1634 + 8208 + 9474 = 19316$.</p>\n",
    "<p>Find the sum of all the numbers that can be written as the sum of fifth powers of their digits.</p>"
   ]
  },
  {
   "cell_type": "code",
   "execution_count": 2,
   "id": "56b88d17",
   "metadata": {
    "_cell_guid": "b1076dfc-b9ad-4769-8c92-a6c4dae69d19",
    "_uuid": "8f2839f25d086af736a60e9eeb907d3b93b6e0e5",
    "execution": {
     "iopub.execute_input": "2025-03-07T18:03:28.108821Z",
     "iopub.status.busy": "2025-03-07T18:03:28.108499Z",
     "iopub.status.idle": "2025-03-07T18:03:29.295942Z",
     "shell.execute_reply": "2025-03-07T18:03:29.294641Z"
    },
    "jupyter": {
     "source_hidden": true
    },
    "papermill": {
     "duration": 1.193031,
     "end_time": "2025-03-07T18:03:29.297929",
     "exception": false,
     "start_time": "2025-03-07T18:03:28.104898",
     "status": "completed"
    },
    "tags": []
   },
   "outputs": [],
   "source": [
    "# This Python 3 environment comes with many helpful analytics libraries installed\n",
    "# It is defined by the kaggle/python Docker image: https://github.com/kaggle/docker-python\n",
    "# For example, here's several helpful packages to load\n",
    "\n",
    "import numpy as np # linear algebra\n",
    "import pandas as pd # data processing, CSV file I/O (e.g. pd.read_csv)\n",
    "\n",
    "# Input data files are available in the read-only \"../input/\" directory\n",
    "# For example, running this (by clicking run or pressing Shift+Enter) will list all files under the input directory\n",
    "\n",
    "import os\n",
    "for dirname, _, filenames in os.walk('/kaggle/input'):\n",
    "    for filename in filenames:\n",
    "        print(os.path.join(dirname, filename))\n",
    "\n",
    "# You can write up to 20GB to the current directory (/kaggle/working/) that gets preserved as output when you create a version using \"Save & Run All\" \n",
    "# You can also write temporary files to /kaggle/temp/, but they won't be saved outside of the current session"
   ]
  },
  {
   "cell_type": "code",
   "execution_count": 3,
   "id": "a3d10572",
   "metadata": {
    "execution": {
     "iopub.execute_input": "2025-03-07T18:03:29.305974Z",
     "iopub.status.busy": "2025-03-07T18:03:29.305452Z",
     "iopub.status.idle": "2025-03-07T18:03:29.333729Z",
     "shell.execute_reply": "2025-03-07T18:03:29.332827Z"
    },
    "jupyter": {
     "source_hidden": true
    },
    "papermill": {
     "duration": 0.034631,
     "end_time": "2025-03-07T18:03:29.335610",
     "exception": false,
     "start_time": "2025-03-07T18:03:29.300979",
     "status": "completed"
    },
    "tags": []
   },
   "outputs": [],
   "source": [
    "# Configuration and Additional Imports\n",
    "\n",
    "# Reloads modules, solve issue where saved module updates are not re-read\n",
    "%load_ext autoreload\n",
    "%autoreload 2\n",
    "\n",
    "# NumPy, Pandas and OS were imported above"
   ]
  },
  {
   "cell_type": "code",
   "execution_count": 4,
   "id": "861c68db",
   "metadata": {
    "execution": {
     "iopub.execute_input": "2025-03-07T18:03:29.343010Z",
     "iopub.status.busy": "2025-03-07T18:03:29.342668Z",
     "iopub.status.idle": "2025-03-07T18:03:32.380525Z",
     "shell.execute_reply": "2025-03-07T18:03:32.379393Z"
    },
    "jupyter": {
     "source_hidden": true
    },
    "papermill": {
     "duration": 3.044063,
     "end_time": "2025-03-07T18:03:32.382715",
     "exception": false,
     "start_time": "2025-03-07T18:03:29.338652",
     "status": "completed"
    },
    "tags": []
   },
   "outputs": [
    {
     "name": "stdout",
     "output_type": "stream",
     "text": [
      "pytest                             8.3.4\r\n"
     ]
    }
   ],
   "source": [
    "# Test Driven Development (TDD)\n",
    "# This project will be created with TDD techniques. \n",
    "# 1. The sample Project Euler problem will be used to define a unit test\n",
    "# 2. A matching funtion to satisfy the unit test\n",
    "# 3. The real problem is presented to the function\n",
    "# 4. The real answer is verified on ProjectEuler.net\n",
    "\n",
    "# Make sure PyTest is available\n",
    "!pip list | grep pytest"
   ]
  },
  {
   "cell_type": "code",
   "execution_count": 5,
   "id": "74c30542",
   "metadata": {
    "execution": {
     "iopub.execute_input": "2025-03-07T18:03:32.390080Z",
     "iopub.status.busy": "2025-03-07T18:03:32.389697Z",
     "iopub.status.idle": "2025-03-07T18:03:32.416506Z",
     "shell.execute_reply": "2025-03-07T18:03:32.415247Z"
    },
    "papermill": {
     "duration": 0.032742,
     "end_time": "2025-03-07T18:03:32.418482",
     "exception": false,
     "start_time": "2025-03-07T18:03:32.385740",
     "status": "completed"
    },
    "tags": []
   },
   "outputs": [
    {
     "name": "stdout",
     "output_type": "stream",
     "text": [
      "Writing problem_30_unit_test.py\n"
     ]
    }
   ],
   "source": [
    "%%writefile problem_30_unit_test.py\n",
    "# Problem 30 - Unit Test\n",
    "\n",
    "import pytest\n",
    "from problem_30 import problem_30\n",
    "\n",
    "def test_problem_30_4():\n",
    "    # should return 19316 for the sum of the numbers where number is the sum of the 4th power of each digit\n",
    "\n",
    "    # ARRANGE\n",
    "    input_ = 4\n",
    "    expected_result = 19316\n",
    "\n",
    "    # ACT\n",
    "    result = problem_30(input_)\n",
    "\n",
    "    # ASSERT\n",
    "    assert result == expected_result"
   ]
  },
  {
   "cell_type": "code",
   "execution_count": 6,
   "id": "5289a836",
   "metadata": {
    "execution": {
     "iopub.execute_input": "2025-03-07T18:03:32.425932Z",
     "iopub.status.busy": "2025-03-07T18:03:32.425577Z",
     "iopub.status.idle": "2025-03-07T18:03:32.447674Z",
     "shell.execute_reply": "2025-03-07T18:03:32.446636Z"
    },
    "papermill": {
     "duration": 0.027858,
     "end_time": "2025-03-07T18:03:32.449368",
     "exception": false,
     "start_time": "2025-03-07T18:03:32.421510",
     "status": "completed"
    },
    "tags": []
   },
   "outputs": [
    {
     "name": "stdout",
     "output_type": "stream",
     "text": [
      "Writing problem_30.py\n"
     ]
    }
   ],
   "source": [
    "%%writefile problem_30.py\n",
    "\n",
    "def problem_30(exp):\n",
    "\n",
    "    # Hypothesis:\n",
    "    # - The minimum test range value is 10\n",
    "    # - Problem states 1 = 1^4 is not a sum\n",
    "    # - Then assume at least 2 digits are needed\n",
    "    # - How to find upper limit? \n",
    "        # Example: 999999 (a six digit number) produces 39366 (a five digit sum) with exp = 4\n",
    "        # So even at the max a six digit number given exp 4 cannot produce a six digit sum\n",
    "        # So lets try stopping the search at five digits 99999 (exp + 1)\n",
    "        # TODO: This workd for exp 4 and 5, but would become a performance problem for higher numbers\n",
    "\n",
    "    numbers = []\n",
    "    stop = int(\"9\" * (exp + 1))\n",
    "    for x in range(10,stop + 1):\n",
    "        digits = list(str(x))\n",
    "        total = 0\n",
    "        for d in digits:\n",
    "            total += int(d)**exp\n",
    "    \n",
    "        if( x == total):\n",
    "            numbers.append(x)\n",
    "            print(f'{x}:  {total}')\n",
    "            \n",
    "    return sum(numbers)"
   ]
  },
  {
   "cell_type": "code",
   "execution_count": 7,
   "id": "037cae01",
   "metadata": {
    "execution": {
     "iopub.execute_input": "2025-03-07T18:03:32.456800Z",
     "iopub.status.busy": "2025-03-07T18:03:32.456458Z",
     "iopub.status.idle": "2025-03-07T18:03:33.571852Z",
     "shell.execute_reply": "2025-03-07T18:03:33.569997Z"
    },
    "papermill": {
     "duration": 1.122051,
     "end_time": "2025-03-07T18:03:33.574562",
     "exception": false,
     "start_time": "2025-03-07T18:03:32.452511",
     "status": "completed"
    },
    "tags": []
   },
   "outputs": [
    {
     "name": "stdout",
     "output_type": "stream",
     "text": [
      "\u001b[32m.\u001b[0m\u001b[32m                                                                                            [100%]\u001b[0m\r\n",
      "\u001b[32m\u001b[32m\u001b[1m1 passed\u001b[0m\u001b[32m in 0.29s\u001b[0m\u001b[0m\r\n"
     ]
    }
   ],
   "source": [
    "# Execute Tests\n",
    "!pytest problem_30_unit_test.py --disable-warnings -q"
   ]
  },
  {
   "cell_type": "code",
   "execution_count": 8,
   "id": "5320c1bf",
   "metadata": {
    "execution": {
     "iopub.execute_input": "2025-03-07T18:03:33.583722Z",
     "iopub.status.busy": "2025-03-07T18:03:33.583097Z",
     "iopub.status.idle": "2025-03-07T18:03:36.802662Z",
     "shell.execute_reply": "2025-03-07T18:03:36.801014Z"
    },
    "papermill": {
     "duration": 3.226272,
     "end_time": "2025-03-07T18:03:36.804800",
     "exception": false,
     "start_time": "2025-03-07T18:03:33.578528",
     "status": "completed"
    },
    "tags": []
   },
   "outputs": [
    {
     "name": "stdout",
     "output_type": "stream",
     "text": [
      "4150:  4150\n",
      "4151:  4151\n",
      "54748:  54748\n",
      "92727:  92727\n",
      "93084:  93084\n",
      "194979:  194979\n",
      "Problem 27 Answer: 443839\n"
     ]
    }
   ],
   "source": [
    "# Execute Problem\n",
    "from problem_30 import problem_30\n",
    "print(f'Problem 27 Answer: {problem_30(5)}')"
   ]
  }
 ],
 "metadata": {
  "kaggle": {
   "accelerator": "none",
   "dataSources": [],
   "dockerImageVersionId": 30918,
   "isGpuEnabled": false,
   "isInternetEnabled": true,
   "language": "python",
   "sourceType": "notebook"
  },
  "kernelspec": {
   "display_name": "Python 3",
   "language": "python",
   "name": "python3"
  },
  "language_info": {
   "codemirror_mode": {
    "name": "ipython",
    "version": 3
   },
   "file_extension": ".py",
   "mimetype": "text/x-python",
   "name": "python",
   "nbconvert_exporter": "python",
   "pygments_lexer": "ipython3",
   "version": "3.10.12"
  },
  "papermill": {
   "default_parameters": {},
   "duration": 12.360051,
   "end_time": "2025-03-07T18:03:37.429321",
   "environment_variables": {},
   "exception": null,
   "input_path": "__notebook__.ipynb",
   "output_path": "__notebook__.ipynb",
   "parameters": {},
   "start_time": "2025-03-07T18:03:25.069270",
   "version": "2.6.0"
  }
 },
 "nbformat": 4,
 "nbformat_minor": 5
}
