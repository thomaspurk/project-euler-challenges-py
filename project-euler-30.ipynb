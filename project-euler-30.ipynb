{
 "cells": [
  {
   "cell_type": "code",
   "execution_count": 1,
   "id": "b1d20e84",
   "metadata": {
    "execution": {
     "iopub.execute_input": "2025-03-08T16:18:38.352462Z",
     "iopub.status.busy": "2025-03-08T16:18:38.352122Z",
     "iopub.status.idle": "2025-03-08T16:18:38.357353Z",
     "shell.execute_reply": "2025-03-08T16:18:38.356376Z"
    },
    "papermill": {
     "duration": 0.011451,
     "end_time": "2025-03-08T16:18:38.359019",
     "exception": false,
     "start_time": "2025-03-08T16:18:38.347568",
     "status": "completed"
    },
    "tags": []
   },
   "outputs": [],
   "source": [
    "# Notebook: A Solution to Project Euler Problem 30\n",
    "# Author: Thomas Purk\n",
    "# Date: 2025-03-07\n",
    "# Reference: https://projecteuler.net/problem=30"
   ]
  },
  {
   "cell_type": "markdown",
   "id": "021a0e43",
   "metadata": {
    "papermill": {
     "duration": 0.002487,
     "end_time": "2025-03-08T16:18:38.364709",
     "exception": false,
     "start_time": "2025-03-08T16:18:38.362222",
     "status": "completed"
    },
    "tags": []
   },
   "source": [
    "# Problem 30\n",
    "\n",
    "<p>Surprisingly there are only three numbers that can be written as the sum of fourth powers of their digits:\n",
    "\\begin{align}\n",
    "1634 &= 1^4 + 6^4 + 3^4 + 4^4\\\\\n",
    "8208 &= 8^4 + 2^4 + 0^4 + 8^4\\\\\n",
    "9474 &= 9^4 + 4^4 + 7^4 + 4^4\n",
    "\\end{align}\n",
    "</p><p class=\"smaller\">As $1 = 1^4$ is not a sum it is not included.</p>\n",
    "<p>The sum of these numbers is $1634 + 8208 + 9474 = 19316$.</p>\n",
    "<p>Find the sum of all the numbers that can be written as the sum of fifth powers of their digits.</p>"
   ]
  },
  {
   "cell_type": "code",
   "execution_count": 2,
   "id": "3164a35f",
   "metadata": {
    "_cell_guid": "b1076dfc-b9ad-4769-8c92-a6c4dae69d19",
    "_uuid": "8f2839f25d086af736a60e9eeb907d3b93b6e0e5",
    "execution": {
     "iopub.execute_input": "2025-03-08T16:18:38.371424Z",
     "iopub.status.busy": "2025-03-08T16:18:38.371056Z",
     "iopub.status.idle": "2025-03-08T16:18:39.338985Z",
     "shell.execute_reply": "2025-03-08T16:18:39.337825Z"
    },
    "jupyter": {
     "source_hidden": true
    },
    "papermill": {
     "duration": 0.973453,
     "end_time": "2025-03-08T16:18:39.340883",
     "exception": false,
     "start_time": "2025-03-08T16:18:38.367430",
     "status": "completed"
    },
    "tags": []
   },
   "outputs": [],
   "source": [
    "# This Python 3 environment comes with many helpful analytics libraries installed\n",
    "# It is defined by the kaggle/python Docker image: https://github.com/kaggle/docker-python\n",
    "# For example, here's several helpful packages to load\n",
    "\n",
    "import numpy as np # linear algebra\n",
    "import pandas as pd # data processing, CSV file I/O (e.g. pd.read_csv)\n",
    "\n",
    "# Input data files are available in the read-only \"../input/\" directory\n",
    "# For example, running this (by clicking run or pressing Shift+Enter) will list all files under the input directory\n",
    "\n",
    "import os\n",
    "for dirname, _, filenames in os.walk('/kaggle/input'):\n",
    "    for filename in filenames:\n",
    "        print(os.path.join(dirname, filename))\n",
    "\n",
    "# You can write up to 20GB to the current directory (/kaggle/working/) that gets preserved as output when you create a version using \"Save & Run All\" \n",
    "# You can also write temporary files to /kaggle/temp/, but they won't be saved outside of the current session"
   ]
  },
  {
   "cell_type": "code",
   "execution_count": 3,
   "id": "7380542f",
   "metadata": {
    "execution": {
     "iopub.execute_input": "2025-03-08T16:18:39.347866Z",
     "iopub.status.busy": "2025-03-08T16:18:39.347361Z",
     "iopub.status.idle": "2025-03-08T16:18:39.375489Z",
     "shell.execute_reply": "2025-03-08T16:18:39.374330Z"
    },
    "jupyter": {
     "source_hidden": true
    },
    "papermill": {
     "duration": 0.033666,
     "end_time": "2025-03-08T16:18:39.377497",
     "exception": false,
     "start_time": "2025-03-08T16:18:39.343831",
     "status": "completed"
    },
    "tags": []
   },
   "outputs": [],
   "source": [
    "# Configuration and Additional Imports\n",
    "\n",
    "# Reloads modules, solve issue where saved module updates are not re-read\n",
    "%load_ext autoreload\n",
    "%autoreload 2\n",
    "\n",
    "# NumPy, Pandas and OS were imported above"
   ]
  },
  {
   "cell_type": "code",
   "execution_count": 4,
   "id": "964232c1",
   "metadata": {
    "execution": {
     "iopub.execute_input": "2025-03-08T16:18:39.384675Z",
     "iopub.status.busy": "2025-03-08T16:18:39.384301Z",
     "iopub.status.idle": "2025-03-08T16:18:41.959101Z",
     "shell.execute_reply": "2025-03-08T16:18:41.957881Z"
    },
    "jupyter": {
     "source_hidden": true
    },
    "papermill": {
     "duration": 2.580653,
     "end_time": "2025-03-08T16:18:41.961257",
     "exception": false,
     "start_time": "2025-03-08T16:18:39.380604",
     "status": "completed"
    },
    "tags": []
   },
   "outputs": [
    {
     "name": "stdout",
     "output_type": "stream",
     "text": [
      "pytest                             8.3.4\r\n"
     ]
    }
   ],
   "source": [
    "# Test Driven Development (TDD)\n",
    "# This project will be created with TDD techniques. \n",
    "# 1. The sample Project Euler problem will be used to define a unit test\n",
    "# 2. A matching funtion to satisfy the unit test\n",
    "# 3. The real problem is presented to the function\n",
    "# 4. The real answer is verified on ProjectEuler.net\n",
    "\n",
    "# Make sure PyTest is available\n",
    "!pip list | grep pytest"
   ]
  },
  {
   "cell_type": "code",
   "execution_count": 5,
   "id": "757f8b44",
   "metadata": {
    "execution": {
     "iopub.execute_input": "2025-03-08T16:18:41.968718Z",
     "iopub.status.busy": "2025-03-08T16:18:41.968375Z",
     "iopub.status.idle": "2025-03-08T16:18:41.993305Z",
     "shell.execute_reply": "2025-03-08T16:18:41.992022Z"
    },
    "papermill": {
     "duration": 0.030773,
     "end_time": "2025-03-08T16:18:41.995143",
     "exception": false,
     "start_time": "2025-03-08T16:18:41.964370",
     "status": "completed"
    },
    "tags": []
   },
   "outputs": [
    {
     "name": "stdout",
     "output_type": "stream",
     "text": [
      "Writing problem_30_unit_test.py\n"
     ]
    }
   ],
   "source": [
    "%%writefile problem_30_unit_test.py\n",
    "# Problem 30 - Unit Test\n",
    "\n",
    "import pytest\n",
    "from problem_30 import problem_30\n",
    "\n",
    "def test_problem_30_4():\n",
    "    # should return 19316 for the sum of the numbers where number is the sum of the 4th power of each digit\n",
    "\n",
    "    # ARRANGE\n",
    "    input_ = 4\n",
    "    expected_result = 19316\n",
    "\n",
    "    # ACT\n",
    "    result = problem_30(input_)\n",
    "\n",
    "    # ASSERT\n",
    "    assert result == expected_result"
   ]
  },
  {
   "cell_type": "code",
   "execution_count": 6,
   "id": "9e7e9442",
   "metadata": {
    "execution": {
     "iopub.execute_input": "2025-03-08T16:18:42.002893Z",
     "iopub.status.busy": "2025-03-08T16:18:42.002547Z",
     "iopub.status.idle": "2025-03-08T16:18:42.025171Z",
     "shell.execute_reply": "2025-03-08T16:18:42.024226Z"
    },
    "papermill": {
     "duration": 0.02874,
     "end_time": "2025-03-08T16:18:42.026874",
     "exception": false,
     "start_time": "2025-03-08T16:18:41.998134",
     "status": "completed"
    },
    "tags": []
   },
   "outputs": [
    {
     "name": "stdout",
     "output_type": "stream",
     "text": [
      "Writing problem_30.py\n"
     ]
    }
   ],
   "source": [
    "%%writefile problem_30.py\n",
    "\n",
    "def problem_30(exp):\n",
    "\n",
    "    # Hypothesis:\n",
    "    # - The minimum test range value is 10\n",
    "    # - Problem states 1 = 1^4 is not a sum\n",
    "    # - Then assume at least 2 digits are needed\n",
    "    # - How to find upper limit? \n",
    "        # Example: 999999 (a six digit number) produces 39366 (a five digit sum) with exp = 4\n",
    "        # So even at the max a six digit number given exp 4 cannot produce a six digit sum\n",
    "        # So lets try stopping the search at five digits 99999 (exp + 1)\n",
    "        # TODO: This workd for exp 4 and 5, but would become a performance problem for higher numbers\n",
    "\n",
    "    numbers = []\n",
    "    stop = int(\"9\" * (exp + 1))\n",
    "    for x in range(10,stop + 1):\n",
    "        digits = list(str(x))\n",
    "        total = 0\n",
    "        for d in digits:\n",
    "            total += int(d)**exp\n",
    "    \n",
    "        if( x == total):\n",
    "            numbers.append(x)\n",
    "            print(f'{x}:  {total}')\n",
    "            \n",
    "    return sum(numbers)"
   ]
  },
  {
   "cell_type": "code",
   "execution_count": 7,
   "id": "1fe5e516",
   "metadata": {
    "execution": {
     "iopub.execute_input": "2025-03-08T16:18:42.034386Z",
     "iopub.status.busy": "2025-03-08T16:18:42.033986Z",
     "iopub.status.idle": "2025-03-08T16:18:43.049249Z",
     "shell.execute_reply": "2025-03-08T16:18:43.047300Z"
    },
    "papermill": {
     "duration": 1.021895,
     "end_time": "2025-03-08T16:18:43.051940",
     "exception": false,
     "start_time": "2025-03-08T16:18:42.030045",
     "status": "completed"
    },
    "tags": []
   },
   "outputs": [
    {
     "name": "stdout",
     "output_type": "stream",
     "text": [
      "\u001b[32m.\u001b[0m\u001b[32m                                                                                            [100%]\u001b[0m\r\n",
      "\u001b[32m\u001b[32m\u001b[1m1 passed\u001b[0m\u001b[32m in 0.26s\u001b[0m\u001b[0m\r\n"
     ]
    }
   ],
   "source": [
    "# Execute Tests\n",
    "!pytest problem_30_unit_test.py --disable-warnings -q"
   ]
  },
  {
   "cell_type": "code",
   "execution_count": 8,
   "id": "f2beb988",
   "metadata": {
    "execution": {
     "iopub.execute_input": "2025-03-08T16:18:43.062496Z",
     "iopub.status.busy": "2025-03-08T16:18:43.062118Z",
     "iopub.status.idle": "2025-03-08T16:18:46.144598Z",
     "shell.execute_reply": "2025-03-08T16:18:46.143267Z"
    },
    "papermill": {
     "duration": 3.088799,
     "end_time": "2025-03-08T16:18:46.146423",
     "exception": false,
     "start_time": "2025-03-08T16:18:43.057624",
     "status": "completed"
    },
    "tags": []
   },
   "outputs": [
    {
     "name": "stdout",
     "output_type": "stream",
     "text": [
      "4150:  4150\n",
      "4151:  4151\n",
      "54748:  54748\n",
      "92727:  92727\n",
      "93084:  93084\n",
      "194979:  194979\n",
      "Problem 30 Answer: 443839\n"
     ]
    }
   ],
   "source": [
    "# Execute Problem\n",
    "from problem_30 import problem_30\n",
    "print(f'Problem 30 Answer: {problem_30(5)}')"
   ]
  }
 ],
 "metadata": {
  "kaggle": {
   "accelerator": "none",
   "dataSources": [],
   "dockerImageVersionId": 30918,
   "isGpuEnabled": false,
   "isInternetEnabled": true,
   "language": "python",
   "sourceType": "notebook"
  },
  "kernelspec": {
   "display_name": "Python 3",
   "language": "python",
   "name": "python3"
  },
  "language_info": {
   "codemirror_mode": {
    "name": "ipython",
    "version": 3
   },
   "file_extension": ".py",
   "mimetype": "text/x-python",
   "name": "python",
   "nbconvert_exporter": "python",
   "pygments_lexer": "ipython3",
   "version": "3.10.12"
  },
  "papermill": {
   "default_parameters": {},
   "duration": 11.25109,
   "end_time": "2025-03-08T16:18:46.769306",
   "environment_variables": {},
   "exception": null,
   "input_path": "__notebook__.ipynb",
   "output_path": "__notebook__.ipynb",
   "parameters": {},
   "start_time": "2025-03-08T16:18:35.518216",
   "version": "2.6.0"
  }
 },
 "nbformat": 4,
 "nbformat_minor": 5
}
