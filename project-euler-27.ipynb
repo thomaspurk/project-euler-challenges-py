{
 "cells": [
  {
   "cell_type": "code",
   "execution_count": 1,
   "id": "d691118f",
   "metadata": {
    "execution": {
     "iopub.execute_input": "2025-03-07T15:46:51.028598Z",
     "iopub.status.busy": "2025-03-07T15:46:51.028208Z",
     "iopub.status.idle": "2025-03-07T15:46:51.033118Z",
     "shell.execute_reply": "2025-03-07T15:46:51.032246Z"
    },
    "papermill": {
     "duration": 0.011192,
     "end_time": "2025-03-07T15:46:51.034666",
     "exception": false,
     "start_time": "2025-03-07T15:46:51.023474",
     "status": "completed"
    },
    "tags": []
   },
   "outputs": [],
   "source": [
    "# Notebook: A Solution to Project Euler Problem 27\n",
    "# Author: Thomas Purk\n",
    "# Date: 2025-03-06\n",
    "# Reference: https://projecteuler.net/problem=27"
   ]
  },
  {
   "cell_type": "markdown",
   "id": "3f68ecf9",
   "metadata": {
    "papermill": {
     "duration": 0.002855,
     "end_time": "2025-03-07T15:46:51.040974",
     "exception": false,
     "start_time": "2025-03-07T15:46:51.038119",
     "status": "completed"
    },
    "tags": []
   },
   "source": [
    "# Problem 27 - Quadratic Primes\n",
    "<p>Euler discovered the remarkable quadratic formula:</p>\n",
    "<p class=\"center\">$n^2 + n + 41$</p>\n",
    "<br>\n",
    "<p>It turns out that the formula will produce $40$ primes for the consecutive integer values $0 \\le n \\le 39$. \n",
    "    \n",
    "However, when $n = 40, 40^2 + 40 + 41 = 40(40 + 1) + 41$ is divisible by $41$, and certainly when $n = 41, 41^2 + 41 + 41$ is clearly divisible by $41$.</p>\n",
    "<br>\n",
    "<p>The incredible formula $n^2 - 79n + 1601$ was discovered, which produces $80$ primes for the consecutive values $0 \\le n \\le 79$. \n",
    "The product of the coefficients, $-79$ and $1601$, is $-126479$.</p>\n",
    "\n",
    "<p>Considering quadratics of the form:</p>\n",
    "<blockquote>\n",
    "$n^2 + an + b$, where $|a| < 1000$ and $|b| \\le 1000$<br><br><div>where $|n|$ is the modulus/absolute value of $n$<br>e.g. $|11| = 11$ and $|-4| = 4$</div>\n",
    "</blockquote>\n",
    "<p>Find the product of the coefficients, $a$ and $b$, for the quadratic expression that produces the maximum number of primes for consecutive values of $n$, starting with $n = 0$.</p>"
   ]
  },
  {
   "cell_type": "code",
   "execution_count": 2,
   "id": "92253e6c",
   "metadata": {
    "_cell_guid": "b1076dfc-b9ad-4769-8c92-a6c4dae69d19",
    "_uuid": "8f2839f25d086af736a60e9eeb907d3b93b6e0e5",
    "execution": {
     "iopub.execute_input": "2025-03-07T15:46:51.048577Z",
     "iopub.status.busy": "2025-03-07T15:46:51.048235Z",
     "iopub.status.idle": "2025-03-07T15:46:51.896172Z",
     "shell.execute_reply": "2025-03-07T15:46:51.894761Z"
    },
    "jupyter": {
     "source_hidden": true
    },
    "papermill": {
     "duration": 0.854842,
     "end_time": "2025-03-07T15:46:51.898744",
     "exception": false,
     "start_time": "2025-03-07T15:46:51.043902",
     "status": "completed"
    },
    "tags": []
   },
   "outputs": [],
   "source": [
    "# This Python 3 environment comes with many helpful analytics libraries installed\n",
    "# It is defined by the kaggle/python Docker image: https://github.com/kaggle/docker-python\n",
    "# For example, here's several helpful packages to load\n",
    "\n",
    "import numpy as np # linear algebra\n",
    "import pandas as pd # data processing, CSV file I/O (e.g. pd.read_csv)\n",
    "\n",
    "# Input data files are available in the read-only \"../input/\" directory\n",
    "# For example, running this (by clicking run or pressing Shift+Enter) will list all files under the input directory\n",
    "\n",
    "import os\n",
    "for dirname, _, filenames in os.walk('/kaggle/input'):\n",
    "    for filename in filenames:\n",
    "        print(os.path.join(dirname, filename))\n",
    "\n",
    "# You can write up to 20GB to the current directory (/kaggle/working/) that gets preserved as output when you create a version using \"Save & Run All\" \n",
    "# You can also write temporary files to /kaggle/temp/, but they won't be saved outside of the current session"
   ]
  },
  {
   "cell_type": "code",
   "execution_count": 3,
   "id": "240c9d62",
   "metadata": {
    "execution": {
     "iopub.execute_input": "2025-03-07T15:46:51.907080Z",
     "iopub.status.busy": "2025-03-07T15:46:51.906495Z",
     "iopub.status.idle": "2025-03-07T15:46:51.931998Z",
     "shell.execute_reply": "2025-03-07T15:46:51.930957Z"
    },
    "jupyter": {
     "source_hidden": true
    },
    "papermill": {
     "duration": 0.031929,
     "end_time": "2025-03-07T15:46:51.934240",
     "exception": false,
     "start_time": "2025-03-07T15:46:51.902311",
     "status": "completed"
    },
    "tags": []
   },
   "outputs": [],
   "source": [
    "# Configuration and Additional Imports\n",
    "\n",
    "# Reloads modules, solve issue where saved module updates are not re-read\n",
    "%load_ext autoreload\n",
    "%autoreload 2\n",
    "\n",
    "# NumPy, Pandas and OS were imported above"
   ]
  },
  {
   "cell_type": "code",
   "execution_count": 4,
   "id": "1fcfe438",
   "metadata": {
    "execution": {
     "iopub.execute_input": "2025-03-07T15:46:51.941874Z",
     "iopub.status.busy": "2025-03-07T15:46:51.941474Z",
     "iopub.status.idle": "2025-03-07T15:46:54.398345Z",
     "shell.execute_reply": "2025-03-07T15:46:54.397023Z"
    },
    "jupyter": {
     "source_hidden": true
    },
    "papermill": {
     "duration": 2.463581,
     "end_time": "2025-03-07T15:46:54.401140",
     "exception": false,
     "start_time": "2025-03-07T15:46:51.937559",
     "status": "completed"
    },
    "tags": []
   },
   "outputs": [
    {
     "name": "stdout",
     "output_type": "stream",
     "text": [
      "pytest                             8.3.4\r\n"
     ]
    }
   ],
   "source": [
    "# Test Driven Development (TDD)\n",
    "# This project will be created with TDD techniques. \n",
    "# 1. The sample Project Euler problem will be used to define a unit test\n",
    "# 2. A matching funtion to satisfy the unit test\n",
    "# 3. The real problem is presented to the function\n",
    "# 4. The real answer is verified on ProjectEuler.net\n",
    "\n",
    "# Make sure PyTest is available\n",
    "!pip list | grep pytest"
   ]
  },
  {
   "cell_type": "code",
   "execution_count": 5,
   "id": "9d66557e",
   "metadata": {
    "execution": {
     "iopub.execute_input": "2025-03-07T15:46:54.409402Z",
     "iopub.status.busy": "2025-03-07T15:46:54.409015Z",
     "iopub.status.idle": "2025-03-07T15:46:54.434588Z",
     "shell.execute_reply": "2025-03-07T15:46:54.432990Z"
    },
    "papermill": {
     "duration": 0.032013,
     "end_time": "2025-03-07T15:46:54.436650",
     "exception": false,
     "start_time": "2025-03-07T15:46:54.404637",
     "status": "completed"
    },
    "tags": []
   },
   "outputs": [
    {
     "name": "stdout",
     "output_type": "stream",
     "text": [
      "Writing problem_27_unit_test.py\n"
     ]
    }
   ],
   "source": [
    "%%writefile problem_27_unit_test.py\n",
    "# Problem 27 - Unit Test\n",
    "\n",
    "import pytest\n",
    "import random\n",
    "import sympy\n",
    "from problem_27 import problem_27, eulers_quad, max_eulers_quad_over_range\n",
    "\n",
    "def test_eulers_quad_n_lt40_a1_b41():\n",
    "    # should return a prime number given 0<= n <= 39, a = 1, b =41\n",
    "\n",
    "    # ARRANGE\n",
    "    input_n_1 = random.randint(0,39)\n",
    "    input_n_2 = random.randint(0,39)\n",
    "    input_n_3 = random.randint(0,39)\n",
    "    input_n_4 = random.randint(0,39)\n",
    "\n",
    "    input_a = 1\n",
    "    input_b = 41\n",
    "    \n",
    "    expected_result = True\n",
    "\n",
    "    # ACT\n",
    "    result_1 = sympy.isprime(eulers_quad(input_n_1, input_a, input_b))\n",
    "    result_2 = sympy.isprime(eulers_quad(input_n_2, input_a, input_b))\n",
    "    result_3 = sympy.isprime(eulers_quad(input_n_3, input_a, input_b))\n",
    "    result_4 = sympy.isprime(eulers_quad(input_n_4, input_a, input_b))\n",
    "\n",
    "    # ASSERT\n",
    "    assert result_1 == expected_result\n",
    "    assert result_2 == expected_result\n",
    "    assert result_3 == expected_result\n",
    "    assert result_4 == expected_result\n",
    "\n",
    "def test_max_eulers_quad_over_range_a79neg_b1601():\n",
    "    # should return max_n = 80 given range of a = [-79], b = [1601]\n",
    "\n",
    "    # ARRANGE\n",
    "    input_a = range(-79, -78)\n",
    "    input_b = range(1601, 1602)\n",
    "    expected_result = { \"max_n\": 80, \"data\": {\"a\": -79, \"b\": 1601} }\n",
    "\n",
    "    # ACT\n",
    "    result = max_eulers_quad_over_range(input_a,input_b)\n",
    "\n",
    "    # ASSERT\n",
    "    assert result == expected_result\n",
    "\n",
    "def test_problem_27_a79neg_b1601():\n",
    "    # should return -126479 given range of a = -79, b = 1601\n",
    "    \n",
    "    # ARRANGE\n",
    "    input_min_a = -79\n",
    "    input_max_a = -78\n",
    "    input_min_b = 1601\n",
    "    input_max_b = 1602\n",
    "    expected_result = -126479\n",
    "\n",
    "    # ACT\n",
    "    result = problem_27(input_min_a,input_max_a,input_min_b,input_max_b)\n",
    "\n",
    "    # ASSERT\n",
    "    assert result == expected_result\n",
    "    "
   ]
  },
  {
   "cell_type": "code",
   "execution_count": 6,
   "id": "6147c4d1",
   "metadata": {
    "execution": {
     "iopub.execute_input": "2025-03-07T15:46:54.444681Z",
     "iopub.status.busy": "2025-03-07T15:46:54.444311Z",
     "iopub.status.idle": "2025-03-07T15:46:54.465178Z",
     "shell.execute_reply": "2025-03-07T15:46:54.463892Z"
    },
    "papermill": {
     "duration": 0.027238,
     "end_time": "2025-03-07T15:46:54.467447",
     "exception": false,
     "start_time": "2025-03-07T15:46:54.440209",
     "status": "completed"
    },
    "tags": []
   },
   "outputs": [
    {
     "name": "stdout",
     "output_type": "stream",
     "text": [
      "Writing problem_27.py\n"
     ]
    }
   ],
   "source": [
    "%%writefile problem_27.py\n",
    "import sympy\n",
    "def eulers_quad(n, a, b):\n",
    "    ''' Function following the form of Euler's original quadradic formula\n",
    "    Originally n^2 + n + 41 produced 40 primes for consecutige integer 0<= n <= 39\n",
    "\n",
    "    Euler's equation could be writen as a = 1, b = 41\n",
    "    n^2 + (a * n) + b\n",
    "\n",
    "    Parameters:\n",
    "        n (int): The n term\n",
    "        a (int): THe a coefficient\n",
    "        b (int): The b coefficient\n",
    "\n",
    "    Returns:\n",
    "        int: The result of the formula given a,b,n\n",
    "    \n",
    "    '''\n",
    "    return n**2 + (a * n) + b\n",
    "\n",
    "def max_eulers_quad_over_range(a_range, b_range):\n",
    "    ''' Calculates the maximum number of concecutive primes for euler's quadractive formula\n",
    "    \n",
    "    Parameters:\n",
    "        a_range (range): A span of values for a \n",
    "        b_range (range): A span of values for b\n",
    "    '''\n",
    "\n",
    "    # Track the results for each combo of a, b, n\n",
    "    data = {}\n",
    "\n",
    "    # Iterate over the permutations of a, b, n\n",
    "    for a in a_range:\n",
    "        for b in b_range:\n",
    "            # Track if the result is prime or not\n",
    "            is_prime = True\n",
    "            n = 0 # start at 0 per instructions\n",
    "    \n",
    "            while is_prime:\n",
    "                test_value = eulers_quad(n,a,b) # calculate\n",
    "                is_prime = sympy.isprime(test_value) # evaluate\n",
    "                if is_prime:\n",
    "                    n += 1 # count it\n",
    "                else:\n",
    "                    # At first non-prime result record the data\n",
    "                    # And then move to the next permutation\n",
    "                    data[n] = {\"a\": a, \"b\": b}\n",
    "                    break\n",
    "\n",
    "    max_n = max(list(data.keys()))\n",
    "    result_dict = { \"max_n\": max_n, \"data\": data[max_n] }\n",
    "    return result_dict\n",
    "\n",
    "def problem_27(min_a, max_a, min_b, max_b):\n",
    "    # Coefficient Ranges per promblem instructions\n",
    "    a_range = range(min_a, max_a)\n",
    "    b_range = range(min_b, max_b)\n",
    "\n",
    "    result = max_eulers_quad_over_range(a_range, b_range)\n",
    "    a = result[\"data\"][\"a\"]\n",
    "    b = result[\"data\"][\"b\"]\n",
    "    print(f'Max n: {result[\"max_n\"]}')\n",
    "    print(f'a: {a}')\n",
    "    print(f'b: {b}')\n",
    "    return a * b"
   ]
  },
  {
   "cell_type": "code",
   "execution_count": 7,
   "id": "8688204d",
   "metadata": {
    "execution": {
     "iopub.execute_input": "2025-03-07T15:46:54.475385Z",
     "iopub.status.busy": "2025-03-07T15:46:54.475052Z",
     "iopub.status.idle": "2025-03-07T15:46:57.892675Z",
     "shell.execute_reply": "2025-03-07T15:46:57.891315Z"
    },
    "papermill": {
     "duration": 3.424131,
     "end_time": "2025-03-07T15:46:57.894999",
     "exception": false,
     "start_time": "2025-03-07T15:46:54.470868",
     "status": "completed"
    },
    "tags": []
   },
   "outputs": [
    {
     "name": "stdout",
     "output_type": "stream",
     "text": [
      "\u001b[32m.\u001b[0m\u001b[32m.\u001b[0m\u001b[32m.\u001b[0m\u001b[32m                                                                                          [100%]\u001b[0m\r\n",
      "\u001b[32m\u001b[32m\u001b[1m3 passed\u001b[0m\u001b[32m in 2.63s\u001b[0m\u001b[0m\r\n"
     ]
    }
   ],
   "source": [
    "# Execute Tests\n",
    "!pytest problem_27_unit_test.py --disable-warnings -q"
   ]
  },
  {
   "cell_type": "code",
   "execution_count": 8,
   "id": "8f0387be",
   "metadata": {
    "execution": {
     "iopub.execute_input": "2025-03-07T15:46:57.904599Z",
     "iopub.status.busy": "2025-03-07T15:46:57.904236Z",
     "iopub.status.idle": "2025-03-07T15:47:03.328021Z",
     "shell.execute_reply": "2025-03-07T15:47:03.326826Z"
    },
    "papermill": {
     "duration": 5.431536,
     "end_time": "2025-03-07T15:47:03.329966",
     "exception": false,
     "start_time": "2025-03-07T15:46:57.898430",
     "status": "completed"
    },
    "tags": []
   },
   "outputs": [
    {
     "name": "stdout",
     "output_type": "stream",
     "text": [
      "Max n: 71\n",
      "a: -61\n",
      "b: 971\n",
      "Problem 27 Answer: -59231\n"
     ]
    }
   ],
   "source": [
    "# Execute Problem\n",
    "from problem_27 import problem_27\n",
    "print(f'Problem 27 Answer: {problem_27(-999, 1001, -999, 1001)}')"
   ]
  },
  {
   "cell_type": "code",
   "execution_count": null,
   "id": "a4744eae",
   "metadata": {
    "papermill": {
     "duration": 0.003027,
     "end_time": "2025-03-07T15:47:03.336470",
     "exception": false,
     "start_time": "2025-03-07T15:47:03.333443",
     "status": "completed"
    },
    "tags": []
   },
   "outputs": [],
   "source": []
  }
 ],
 "metadata": {
  "kaggle": {
   "accelerator": "none",
   "dataSources": [],
   "dockerImageVersionId": 30918,
   "isGpuEnabled": false,
   "isInternetEnabled": true,
   "language": "python",
   "sourceType": "notebook"
  },
  "kernelspec": {
   "display_name": "Python 3",
   "language": "python",
   "name": "python3"
  },
  "language_info": {
   "codemirror_mode": {
    "name": "ipython",
    "version": 3
   },
   "file_extension": ".py",
   "mimetype": "text/x-python",
   "name": "python",
   "nbconvert_exporter": "python",
   "pygments_lexer": "ipython3",
   "version": "3.10.12"
  },
  "papermill": {
   "default_parameters": {},
   "duration": 15.796831,
   "end_time": "2025-03-07T15:47:04.060561",
   "environment_variables": {},
   "exception": null,
   "input_path": "__notebook__.ipynb",
   "output_path": "__notebook__.ipynb",
   "parameters": {},
   "start_time": "2025-03-07T15:46:48.263730",
   "version": "2.6.0"
  }
 },
 "nbformat": 4,
 "nbformat_minor": 5
}
