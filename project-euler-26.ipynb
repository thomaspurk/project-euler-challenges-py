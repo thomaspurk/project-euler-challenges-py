{
 "cells": [
  {
   "cell_type": "code",
   "execution_count": 1,
   "id": "70e9bb1a",
   "metadata": {
    "execution": {
     "iopub.execute_input": "2025-03-07T15:44:08.155155Z",
     "iopub.status.busy": "2025-03-07T15:44:08.154635Z",
     "iopub.status.idle": "2025-03-07T15:44:08.161599Z",
     "shell.execute_reply": "2025-03-07T15:44:08.159960Z"
    },
    "papermill": {
     "duration": 0.013988,
     "end_time": "2025-03-07T15:44:08.163670",
     "exception": false,
     "start_time": "2025-03-07T15:44:08.149682",
     "status": "completed"
    },
    "tags": []
   },
   "outputs": [],
   "source": [
    "# Notebook: A Solution to Project Euler Problem 26\n",
    "# Author: Thomas Purk\n",
    "# Date: 2025-03-05\n",
    "# Reference: https://projecteuler.net/problem=26"
   ]
  },
  {
   "cell_type": "markdown",
   "id": "e8acbd97",
   "metadata": {
    "papermill": {
     "duration": 0.00271,
     "end_time": "2025-03-07T15:44:08.169886",
     "exception": false,
     "start_time": "2025-03-07T15:44:08.167176",
     "status": "completed"
    },
    "tags": []
   },
   "source": [
    "# Problem 26\n",
    "A unit fraction contains $1$ in the numerator. The decimal representation of the unit fractions with denominators $2$ to $10$ are given:\n",
    "\n",
    "$$\\begin{align}\n",
    "1/2 &= 0.5\\\\\n",
    "1/3 &=0.(3)\\\\\n",
    "1/4 &=0.25\\\\\n",
    "1/5 &= 0.2\\\\\n",
    "1/6 &= 0.1(6)\\\\\n",
    "1/7 &= 0.(142857)\\\\\n",
    "1/8 &= 0.125\\\\\n",
    "1/9 &= 0.(1)\\\\\n",
    "1/10 &= 0.1\n",
    "\\end{align}$$\n",
    "\n",
    "Where $0.1(6)$ means $0.166666\\cdots$, and has a $1$-digit recurring cycle. It can be seen that $1/7$ has a $6$-digit recurring cycle.\n",
    "\n",
    "Find the value of $d \\lt 1000$ for which $1/d$ contains the longest recurring cycle in its decimal fraction part."
   ]
  },
  {
   "cell_type": "code",
   "execution_count": 2,
   "id": "3f434ebb",
   "metadata": {
    "_cell_guid": "b1076dfc-b9ad-4769-8c92-a6c4dae69d19",
    "_uuid": "8f2839f25d086af736a60e9eeb907d3b93b6e0e5",
    "execution": {
     "iopub.execute_input": "2025-03-07T15:44:08.177493Z",
     "iopub.status.busy": "2025-03-07T15:44:08.176989Z",
     "iopub.status.idle": "2025-03-07T15:44:09.309817Z",
     "shell.execute_reply": "2025-03-07T15:44:09.308360Z"
    },
    "jupyter": {
     "source_hidden": true
    },
    "papermill": {
     "duration": 1.138894,
     "end_time": "2025-03-07T15:44:09.311799",
     "exception": false,
     "start_time": "2025-03-07T15:44:08.172905",
     "status": "completed"
    },
    "tags": []
   },
   "outputs": [
    {
     "name": "stdout",
     "output_type": "stream",
     "text": [
      "/kaggle/working/__notebook__.ipynb\n"
     ]
    }
   ],
   "source": [
    "# This Python 3 environment comes with many helpful analytics libraries installed\n",
    "# It is defined by the kaggle/python Docker image: https://github.com/kaggle/docker-python\n",
    "# For example, here's several helpful packages to load\n",
    "\n",
    "import numpy as np # linear algebra\n",
    "import pandas as pd # data processing, CSV file I/O (e.g. pd.read_csv)\n",
    "\n",
    "# Input data files are available in the read-only \"../input/\" directory\n",
    "# For example, running this (by clicking run or pressing Shift+Enter) will list all files under the input directory\n",
    "\n",
    "import os\n",
    "for dirname, _, filenames in os.walk('/kaggle/input'):\n",
    "    for filename in filenames:\n",
    "        print(os.path.join(dirname, filename))\n",
    "\n",
    "# You can write up to 20GB to the current directory (/kaggle/working/) that gets preserved as output when you create a version using \"Save & Run All\"\n",
    "for dirname, _, filenames in os.walk('/kaggle/working'):\n",
    "    for filename in filenames:\n",
    "        print(os.path.join(dirname, filename))\n",
    "        \n",
    "# You can also write temporary files to /kaggle/temp/, but they won't be saved outside of the current session\n",
    "for dirname, _, filenames in os.walk('/kaggle/temp'):\n",
    "    for filename in filenames:\n",
    "        print(os.path.join(dirname, filename))"
   ]
  },
  {
   "cell_type": "code",
   "execution_count": 3,
   "id": "4dd3de11",
   "metadata": {
    "execution": {
     "iopub.execute_input": "2025-03-07T15:44:09.319946Z",
     "iopub.status.busy": "2025-03-07T15:44:09.319384Z",
     "iopub.status.idle": "2025-03-07T15:44:09.349840Z",
     "shell.execute_reply": "2025-03-07T15:44:09.348633Z"
    },
    "papermill": {
     "duration": 0.036716,
     "end_time": "2025-03-07T15:44:09.351910",
     "exception": false,
     "start_time": "2025-03-07T15:44:09.315194",
     "status": "completed"
    },
    "tags": []
   },
   "outputs": [],
   "source": [
    "# Configuration and Additional Imports\n",
    "\n",
    "# Reloads modules, solve issue where saved module updates are not re-read\n",
    "%load_ext autoreload\n",
    "%autoreload 2\n",
    "\n",
    "# NumPy, Pandas and OS were imported above"
   ]
  },
  {
   "cell_type": "code",
   "execution_count": 4,
   "id": "3bd189d8",
   "metadata": {
    "execution": {
     "iopub.execute_input": "2025-03-07T15:44:09.359538Z",
     "iopub.status.busy": "2025-03-07T15:44:09.359125Z",
     "iopub.status.idle": "2025-03-07T15:44:12.311866Z",
     "shell.execute_reply": "2025-03-07T15:44:12.310413Z"
    },
    "papermill": {
     "duration": 2.959676,
     "end_time": "2025-03-07T15:44:12.314847",
     "exception": false,
     "start_time": "2025-03-07T15:44:09.355171",
     "status": "completed"
    },
    "tags": []
   },
   "outputs": [
    {
     "name": "stdout",
     "output_type": "stream",
     "text": [
      "pytest                             8.3.4\r\n"
     ]
    }
   ],
   "source": [
    "# Test Driven Development (TDD)\n",
    "# This project will be created with TDD techniques. \n",
    "# 1. The sample Project Euler problem will be used to define a unit test\n",
    "# 2. A matching funtion to satisfy the unit test\n",
    "# 3. The real problem is presented to the function\n",
    "# 4. The real answer is verified on ProjectEuler.net\n",
    "\n",
    "# Make sure PyTest is available\n",
    "!pip list | grep pytest"
   ]
  },
  {
   "cell_type": "code",
   "execution_count": 5,
   "id": "b530b20e",
   "metadata": {
    "execution": {
     "iopub.execute_input": "2025-03-07T15:44:12.328024Z",
     "iopub.status.busy": "2025-03-07T15:44:12.327427Z",
     "iopub.status.idle": "2025-03-07T15:44:12.361496Z",
     "shell.execute_reply": "2025-03-07T15:44:12.359658Z"
    },
    "papermill": {
     "duration": 0.043885,
     "end_time": "2025-03-07T15:44:12.364482",
     "exception": false,
     "start_time": "2025-03-07T15:44:12.320597",
     "status": "completed"
    },
    "tags": []
   },
   "outputs": [
    {
     "name": "stdout",
     "output_type": "stream",
     "text": [
      "Writing problem_26_unit_test.py\n"
     ]
    }
   ],
   "source": [
    "%%writefile problem_26_unit_test.py\n",
    "# Problem 26 - Unit Test\n",
    "\n",
    "import pytest\n",
    "from problem_26 import problem_26, find_repetend_of_reciprocal\n",
    "\n",
    "def test_problem_26_dlt10():\n",
    "    # should return correct value where the maximum unit fraction denomination is 10\n",
    "\n",
    "    # ARRANGE\n",
    "    input_ = 10\n",
    "    expected_result = 7\n",
    "\n",
    "    # ACT\n",
    "    result = problem_26(input_)\n",
    "\n",
    "    # ASSERT\n",
    "    assert result == expected_result\n",
    "\n",
    "\n",
    "def test_find_repetend_of_reciprocal_return_value():\n",
    "    \n",
    "    # ARRANGE\n",
    "    input_a = 59\n",
    "    expected_result_a = '0169491525423728813559322033898305084745762711864406779661'\n",
    "\n",
    "    input_b = 24\n",
    "    expected_result_b = '6'\n",
    "\n",
    "    input_c = 25\n",
    "    expected_result_c = ''\n",
    "    \n",
    "    input_d = 16\n",
    "    expected_result_d = ''\n",
    "\n",
    "    # ACT\n",
    "    result_a = find_repetend_of_reciprocal(input_a)\n",
    "    result_b = find_repetend_of_reciprocal(input_b)\n",
    "    result_c = find_repetend_of_reciprocal(input_c)\n",
    "\n",
    "    # ASSERT\n",
    "    assert result_a == expected_result_a\n",
    "    assert result_b == expected_result_b\n",
    "    assert result_c == expected_result_c"
   ]
  },
  {
   "cell_type": "code",
   "execution_count": 6,
   "id": "f65ab653",
   "metadata": {
    "execution": {
     "iopub.execute_input": "2025-03-07T15:44:12.375298Z",
     "iopub.status.busy": "2025-03-07T15:44:12.374694Z",
     "iopub.status.idle": "2025-03-07T15:44:12.403350Z",
     "shell.execute_reply": "2025-03-07T15:44:12.401365Z"
    },
    "papermill": {
     "duration": 0.036617,
     "end_time": "2025-03-07T15:44:12.406375",
     "exception": false,
     "start_time": "2025-03-07T15:44:12.369758",
     "status": "completed"
    },
    "tags": []
   },
   "outputs": [
    {
     "name": "stdout",
     "output_type": "stream",
     "text": [
      "Writing problem_26.py\n"
     ]
    }
   ],
   "source": [
    "%%writefile problem_26.py\n",
    "# Problem 26 - Function\n",
    "\n",
    "def problem_26(d):\n",
    "    ''' Find the longest recuring decimal cycle among all the unit fractions upto d\n",
    "\n",
    "\n",
    "    Parameters:\n",
    "        d (int): The maximum denominator (plus 1) used to form the unit fractions\n",
    "\n",
    "    Returns:\n",
    "        str: The value of d with the longest recuring decimal cycle\n",
    "    \n",
    "    '''\n",
    "    longest_repetend = ''\n",
    "    denominator_max = 0\n",
    "    for x in range(1,d):\n",
    "        repetend = find_repetend_of_reciprocal(x)\n",
    "        if len(repetend) > len(longest_repetend):\n",
    "            longest_repetend = repetend\n",
    "            denominator_max = x\n",
    "    \n",
    "    print(f'Longest Repetend: {longest_repetend}')\n",
    "    print(f'Has Length: {len(longest_repetend)}')\n",
    "    print(f'And comes from denominator: {denominator_max}')\n",
    "    return denominator_max\n",
    "\n",
    "def find_repetend_of_reciprocal(d):\n",
    "    '''Finds the repetend (repeating decimal sequence) for the reciprocal of 1/d.\n",
    "    Operators on the concept that if a remainder of (10/d) repeats, the so will the \n",
    "    following desequence of decimals.\n",
    "\n",
    "    Parameters:\n",
    "        d (int): A number which becomes the denominator in the reciprocal function\n",
    "\n",
    "    Returns:\n",
    "        string: The repetend, or repeating section of the decimal sequence. If a terminating\n",
    "        decimal is found (non-repeating)  then a blank string is returned.\n",
    "    \n",
    "    '''\n",
    "    # Track the digits to the right of the decimal\n",
    "    digits = \"\"\n",
    "\n",
    "    # Track the numerator of the current calculation\n",
    "    # Start at 0.1 so first loop is 1/d\n",
    "    numerator = 0.1\n",
    "    \n",
    "    # When a repeated remainder is found, the repetend sequence\n",
    "    # will start in the digits string at the position recorded\n",
    "    remainders = []\n",
    "\n",
    "    # When the current numerator (previous remainder) is zero\n",
    "    # then this proves there is no repetend\n",
    "    while numerator != 0:\n",
    "\n",
    "        # Get the next digit to right of decimal (tens place of current shift)\n",
    "        # // is the floor divisor operator, discards numerator\n",
    "        digit = int((numerator * 10)) // d\n",
    "\n",
    "        # Update the numerator based on shifting left one place\n",
    "        remainder = int((numerator * 10)) % d\n",
    "\n",
    "        # Record the data\n",
    "        remainders.append(remainder)\n",
    "        digits += str(digit)\n",
    "\n",
    "        # print('Shift remainder decimal right (multiply by 10)')\n",
    "        # print(f'(10 * {remainder})/{d} = Digit:{digit}, Remainder {remainder}')\n",
    "        # print('')\n",
    "        \n",
    "        # Check if numerator has repeated (before adding current remainder)\n",
    "        # If the numerator repeats then so must the sequence of digits to the right\n",
    "        if remainders.count(remainder) > 1:\n",
    "            # Starting position of the repetend within the digits string \n",
    "            start = remainders.index(remainder) + 1\n",
    "            repetend = digits[start:]\n",
    "            # print(f'Repeated remainder: {remainder}')\n",
    "            # print(f'Start: {start}')\n",
    "            # print(f'Digits: {digits}')\n",
    "            # print(f'Repetend: {repetend}')\n",
    "            return repetend  # Return the repeating sequence\n",
    "            break\n",
    "\n",
    "        # Prep for the next loop\n",
    "        numerator = remainder\n",
    "        \n",
    "    # Many numbers have terminating digits and do not repeat\n",
    "    return '' \n",
    "        "
   ]
  },
  {
   "cell_type": "code",
   "execution_count": 7,
   "id": "e74ef54f",
   "metadata": {
    "execution": {
     "iopub.execute_input": "2025-03-07T15:44:12.418997Z",
     "iopub.status.busy": "2025-03-07T15:44:12.418477Z",
     "iopub.status.idle": "2025-03-07T15:44:13.276219Z",
     "shell.execute_reply": "2025-03-07T15:44:13.274712Z"
    },
    "papermill": {
     "duration": 0.867661,
     "end_time": "2025-03-07T15:44:13.279066",
     "exception": false,
     "start_time": "2025-03-07T15:44:12.411405",
     "status": "completed"
    },
    "tags": []
   },
   "outputs": [
    {
     "name": "stdout",
     "output_type": "stream",
     "text": [
      "\u001b[32m.\u001b[0m\u001b[32m.\u001b[0m\u001b[32m                                                                                           [100%]\u001b[0m\r\n",
      "\u001b[32m\u001b[32m\u001b[1m2 passed\u001b[0m\u001b[32m in 0.01s\u001b[0m\u001b[0m\r\n"
     ]
    }
   ],
   "source": [
    "# Execute Tests\n",
    "!pytest problem_26_unit_test.py --disable-warnings -q"
   ]
  },
  {
   "cell_type": "code",
   "execution_count": 8,
   "id": "a143cba8",
   "metadata": {
    "execution": {
     "iopub.execute_input": "2025-03-07T15:44:13.288367Z",
     "iopub.status.busy": "2025-03-07T15:44:13.287927Z",
     "iopub.status.idle": "2025-03-07T15:44:13.612672Z",
     "shell.execute_reply": "2025-03-07T15:44:13.611401Z"
    },
    "papermill": {
     "duration": 0.3318,
     "end_time": "2025-03-07T15:44:13.614690",
     "exception": false,
     "start_time": "2025-03-07T15:44:13.282890",
     "status": "completed"
    },
    "tags": []
   },
   "outputs": [
    {
     "name": "stdout",
     "output_type": "stream",
     "text": [
      "Longest Repetend: 0010172939979654120040691759918616480162767039674465920651068158697863682604272634791454730417090539165818921668362156663275686673448626653102746693794506612410986775178026449643947100712105798575788402848423194303153611393692777212614445574771108850457782299084435401831129196337741607324516785350966429298067141403865717192268565615462868769074262461851475076297049847405900305188199389623601220752797558494404883011190233977619532044760935910478128179043743641912512716174974567650050864699898270600203458799593082400813835198372329603255340793489318413021363173957273652085452695829094608341810783316378433367243133265513733468972533062054933875890132248219735503560528992878942014242115971515768056968463886063072227873855544252288911495422177009155645981688708036622583926754832146490335707019328585961342828077314343845371312309257375381485249237029501525940996948118006103763987792472024415055951169888097660223804679552390640895218718209562563580874872838250254323499491353\n",
      "Has Length: 982\n",
      "And comes from denominator: 983\n",
      "Problem 26 Answer: 983\n"
     ]
    }
   ],
   "source": [
    "# Execute Problem\n",
    "from problem_26 import problem_26\n",
    "print(f'Problem 26 Answer: {problem_26(1000)}')\n"
   ]
  }
 ],
 "metadata": {
  "kaggle": {
   "accelerator": "none",
   "dataSources": [],
   "dockerImageVersionId": 30918,
   "isGpuEnabled": false,
   "isInternetEnabled": true,
   "language": "python",
   "sourceType": "notebook"
  },
  "kernelspec": {
   "display_name": "Python 3",
   "language": "python",
   "name": "python3"
  },
  "language_info": {
   "codemirror_mode": {
    "name": "ipython",
    "version": 3
   },
   "file_extension": ".py",
   "mimetype": "text/x-python",
   "name": "python",
   "nbconvert_exporter": "python",
   "pygments_lexer": "ipython3",
   "version": "3.10.12"
  },
  "papermill": {
   "default_parameters": {},
   "duration": 9.168403,
   "end_time": "2025-03-07T15:44:14.239633",
   "environment_variables": {},
   "exception": null,
   "input_path": "__notebook__.ipynb",
   "output_path": "__notebook__.ipynb",
   "parameters": {},
   "start_time": "2025-03-07T15:44:05.071230",
   "version": "2.6.0"
  }
 },
 "nbformat": 4,
 "nbformat_minor": 5
}
